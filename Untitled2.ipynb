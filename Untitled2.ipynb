{
  "nbformat": 4,
  "nbformat_minor": 0,
  "metadata": {
    "colab": {
      "provenance": []
    },
    "kernelspec": {
      "name": "python3",
      "display_name": "Python 3"
    },
    "language_info": {
      "name": "python"
    }
  },
  "cells": [
    {
      "cell_type": "code",
      "execution_count": 2,
      "metadata": {
        "colab": {
          "base_uri": "https://localhost:8080/"
        },
        "id": "-A6eLroT1UY8",
        "outputId": "9b9f5829-5043-478f-c82a-4d2cd098830a"
      },
      "outputs": [
        {
          "output_type": "stream",
          "name": "stdout",
          "text": [
            "True\n",
            "False\n",
            "False\n"
          ]
        }
      ],
      "source": [
        "def word_pattern(pattern: str, s: str) -> bool:\n",
        "    # split  string in words\n",
        "    words = s.split()\n",
        "\n",
        "    # If the length of the pattern passed and the list containing all the words is different\n",
        "    if len(pattern) != len(words):\n",
        "        return False\n",
        "\n",
        "      #It is necessary to define two dictionaries to keep track of several corresponding values.\n",
        "\n",
        "    char_to_word = {}\n",
        "    word_to_char = {}\n",
        "\n",
        "    # Next, the characters of the pattern and corresponding words have to be looped through\n",
        "\n",
        "    for char, word in zip(pattern, words):\n",
        "        # Determine if the character has already a word mapped on it\n",
        "\n",
        "        if char in char_to_word:\n",
        "            # If the character maps to a different word clearly return False\n",
        "\n",
        "            if char_to_word[char] != word:\n",
        "                return False\n",
        "        else:\n",
        "            # If it doesn’t exist there, then we add it to the dictionary\n",
        "\n",
        "            char_to_word[char] = word\n",
        "\n",
        "      # Confirm if the word has already been mapped to a character\n",
        "        if word in word_to_char:\n",
        "        # Note we return False if it maps to a different character\n",
        "            if word_to_char[word] != char:\n",
        "                return False\n",
        "        else:\n",
        "            # add it in the dictionary if it is not mapped\n",
        "\n",
        "            word_to_char[word] = char\n",
        "\n",
        "   # Iff all mappings are consistent, then return True\n",
        "\n",
        "    return True\n",
        "\n",
        "# test example\n",
        "print(word_pattern(\"abba\", \"dog cat cat dog\"))  # Output: True\n",
        "print(word_pattern(\"abba\", \"dog cat cat fish\"))  # Output: False\n",
        "print(word_pattern(\"aaaa\", \"dog cat cat dog\"))   # Output: False"
      ]
    }
  ]
}